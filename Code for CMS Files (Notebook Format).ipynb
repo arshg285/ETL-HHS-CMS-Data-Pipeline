{
 "cells": [
  {
   "cell_type": "code",
   "execution_count": 8,
   "id": "a48fdf5a",
   "metadata": {},
   "outputs": [],
   "source": [
    "import psycopg\n",
    "import pandas as pd\n",
    "import time\n",
    "import credentials as cd\n",
    "import numpy as np\n",
    "import sys\n",
    "from data_cleaning import data_cleaning_hginfo\n",
    "\n",
    "import warnings\n",
    "warnings.filterwarnings('ignore')"
   ]
  },
  {
   "cell_type": "markdown",
   "id": "4184b695",
   "metadata": {},
   "source": [
    "# Data Cleaning"
   ]
  },
  {
   "cell_type": "code",
   "execution_count": 9,
   "id": "20385621",
   "metadata": {},
   "outputs": [],
   "source": [
    "# input_date = sys.argv[1]\n",
    "# cms_file = sys.argv[2]\n",
    "input_date = '2021-07-01'\n",
    "cms_file = 'Hospital_General_Information-2021-07.csv'\n",
    "file = str('/Users/arshmacbook/Desktop/36-614/Project/hospital_quality_files/' + cms_file)\n",
    "cms = data_cleaning_hginfo(input_date, file)\n",
    "cms['emergency_services_provided'] = cms['Emergency Services'].map({'Yes': True, 'No': False})"
   ]
  },
  {
   "cell_type": "markdown",
   "id": "faa068b4",
   "metadata": {},
   "source": [
    "# Establishing SQL connection"
   ]
  },
  {
   "cell_type": "code",
   "execution_count": 10,
   "id": "4bb8349d",
   "metadata": {},
   "outputs": [],
   "source": [
    "conn = psycopg.connect(\n",
    "    host = \"sculptor.stat.cmu.edu\",\n",
    "    dbname = , # Insert your dbname\n",
    "    user = , # Insert your username\n",
    "    password = # Insert your password\n",
    ")"
   ]
  },
  {
   "cell_type": "code",
   "execution_count": 11,
   "id": "03c7b880",
   "metadata": {},
   "outputs": [],
   "source": [
    "cur = conn.cursor()"
   ]
  },
  {
   "cell_type": "code",
   "execution_count": 12,
   "id": "7e3c08cb",
   "metadata": {},
   "outputs": [],
   "source": [
    "error_rows_cms = pd.DataFrame()\n",
    "num_rows_successfully_inserted_cms = 0\n",
    "num_rows_error_cms = 0"
   ]
  },
  {
   "cell_type": "markdown",
   "id": "c12d13a9",
   "metadata": {},
   "source": [
    "# Deleting all pre-existing rows in all tables"
   ]
  },
  {
   "cell_type": "raw",
   "id": "df0eb364",
   "metadata": {},
   "source": [
    "with conn.transaction():\n",
    "    cur.execute(\"DELETE FROM ratings\")"
   ]
  },
  {
   "cell_type": "markdown",
   "id": "c0134d62",
   "metadata": {},
   "source": [
    "# Creating transaction"
   ]
  },
  {
   "cell_type": "code",
   "execution_count": null,
   "id": "ded942f8",
   "metadata": {},
   "outputs": [],
   "source": [
    "with conn.transaction():\n",
    "    for column, row in cms.iterrows():\n",
    "        try:\n",
    "            with conn.transaction():\n",
    "                \n",
    "                # If a hospital already exists in the address table then add row to ratings table\n",
    "                cur.execute(\"INSERT into ratings \"\n",
    "                            \"(hospital_name, \"\n",
    "                            \"hospital_pk, \"\n",
    "                            \"collection_week, \"\n",
    "                            \"overall_quality_rating, \"\n",
    "                            \"type, \"\n",
    "                            \"emergency_services_provided) \"\n",
    "                            \"VALUES (%(hospital_name)s, \"\n",
    "                            \"%(hospital_pk)s, \"\n",
    "                            \"%(collection_week)s, \"\n",
    "                            \"%(overall_quality_rating)s, \"\n",
    "                            \"%(type)s, \"\n",
    "                            \"%(emergency_services_provided)s)\",\n",
    "                            {'hospital_name' : str(row['Facility Name']),\n",
    "                             'hospital_pk' : str(row['Facility ID']),\n",
    "                             'collection_week' : str(row.collection_week),\n",
    "                             'overall_quality_rating' : float(row['Hospital overall rating']),\n",
    "                             'type' : str(row['Hospital Ownership']),\n",
    "                             'emergency_services_provided' : row.emergency_services_provided})\n",
    "\n",
    "        except Exception as e:\n",
    "            row = dict(row)\n",
    "            error_rows_cms = error_rows_cms.append(row, ignore_index = True)\n",
    "            num_rows_error_cms += 1\n",
    "\n",
    "        else:\n",
    "            num_rows_successfully_inserted_cms += 1"
   ]
  },
  {
   "cell_type": "markdown",
   "id": "ab86a789",
   "metadata": {},
   "source": [
    "# Committing the transaction"
   ]
  },
  {
   "cell_type": "code",
   "execution_count": null,
   "id": "2da17b3d",
   "metadata": {},
   "outputs": [],
   "source": [
    "conn.commit()"
   ]
  },
  {
   "cell_type": "markdown",
   "id": "5fedecf0",
   "metadata": {},
   "source": [
    "# Creating CSV files for error rows"
   ]
  },
  {
   "cell_type": "code",
   "execution_count": null,
   "id": "eeac5aa6",
   "metadata": {},
   "outputs": [],
   "source": [
    "error_rows_cms.to_csv(\"Error rows in CMS data set.csv\", index = False)"
   ]
  },
  {
   "cell_type": "markdown",
   "id": "57eb8948",
   "metadata": {},
   "source": [
    "# Printing the summary output"
   ]
  },
  {
   "cell_type": "code",
   "execution_count": null,
   "id": "025b7a4a",
   "metadata": {},
   "outputs": [],
   "source": [
    "print(\"Number of rows successfully inserted:\", round(num_rows_successfully_inserted_cms / cms.shape[0] * 100, 2), \"%\")\n",
    "print(\"Number of rows unable to be inserted due to errors:\", round(num_rows_error_cms / cms.shape[0] * 100, 2), \"%\")"
   ]
  },
  {
   "cell_type": "markdown",
   "id": "9130fc7a",
   "metadata": {},
   "source": [
    "# Analyses"
   ]
  },
  {
   "cell_type": "code",
   "execution_count": null,
   "id": "0964f0ca",
   "metadata": {},
   "outputs": [],
   "source": [
    "ratings = pd.DataFrame(cur.execute(\"select * from ratings\").fetchall())\n",
    "capacity_info = pd.DataFrame(cur.execute(\"select * from capacity_info\").fetchall())\n",
    "covid_info = pd.DataFrame(cur.execute(\"select * from covid_info\").fetchall())\n",
    "address = pd.DataFrame(cur.execute(\"select * from address\").fetchall())"
   ]
  },
  {
   "cell_type": "markdown",
   "id": "be5811a1",
   "metadata": {},
   "source": [
    "# Closing the SQL connection"
   ]
  },
  {
   "cell_type": "code",
   "execution_count": 15,
   "id": "770a3aa2",
   "metadata": {},
   "outputs": [],
   "source": [
    "conn.close()"
   ]
  }
 ],
 "metadata": {
  "kernelspec": {
   "display_name": "Python 3",
   "language": "python",
   "name": "python3"
  },
  "language_info": {
   "codemirror_mode": {
    "name": "ipython",
    "version": 3
   },
   "file_extension": ".py",
   "mimetype": "text/x-python",
   "name": "python",
   "nbconvert_exporter": "python",
   "pygments_lexer": "ipython3",
   "version": "3.8.8"
  },
  "vscode": {
   "interpreter": {
    "hash": "40d3a090f54c6569ab1632332b64b2c03c39dcf918b08424e98f38b5ae0af88f"
   }
  }
 },
 "nbformat": 4,
 "nbformat_minor": 5
}

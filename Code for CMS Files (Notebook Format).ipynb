{
 "cells": [
  {
   "cell_type": "code",
   "execution_count": 21,
   "id": "a48fdf5a",
   "metadata": {},
   "outputs": [],
   "source": [
    "import psycopg\n",
    "import pandas as pd\n",
    "import time\n",
    "import credentials as cd\n",
    "import numpy as np\n",
    "from data_cleaning import data_cleaning_hginfo\n",
    "\n",
    "import warnings\n",
    "warnings.filterwarnings('ignore')"
   ]
  },
  {
   "cell_type": "markdown",
   "id": "4184b695",
   "metadata": {},
   "source": [
    "# Data Cleaning"
   ]
  },
  {
   "cell_type": "code",
   "execution_count": 22,
   "id": "20385621",
   "metadata": {},
   "outputs": [],
   "source": [
    "input_date_1 = '2021-07-01'\n",
    "cms_file_1 = 'Hospital_General_Information-2021-07.csv'\n",
    "\n",
    "input_date_2 = '2022-01-01'\n",
    "cms_file_2 = 'Hospital_General_Information-2022-01.csv'\n",
    "\n",
    "input_date_3 = '2022-10-01'\n",
    "cms_file_3 = 'Hospital_General_Information-2022-10.csv'\n",
    "\n",
    "path = str('/Users/arshmacbook/Desktop/36-614/data_engineering_project/hhs_weekly_data_files/')  # Enter your directory path\n",
    "file = str(path + cms_file_1)  # Enter the HHS file to load\n",
    "cms = data_cleaning_hginfo(input_date_1, file)  # Enter the input date\n",
    "cms['emergency_services_provided'] = cms['Emergency Services'].map({'Yes': True, 'No': False})"
   ]
  },
  {
   "attachments": {},
   "cell_type": "markdown",
   "id": "faa068b4",
   "metadata": {},
   "source": [
    "# Establishing SQL connection"
   ]
  },
  {
   "cell_type": "code",
   "execution_count": 23,
   "id": "4bb8349d",
   "metadata": {},
   "outputs": [],
   "source": [
    "conn = psycopg.connect(\n",
    "    host = \"sculptor.stat.cmu.edu\",\n",
    "    dbname = cd.arsh_dbname,  # Insert your dbname\n",
    "    user = cd.arsh_username,  # Insert your username\n",
    "    password = cd.arsh_password  # Insert your password\n",
    ")"
   ]
  },
  {
   "cell_type": "code",
   "execution_count": 24,
   "id": "03c7b880",
   "metadata": {},
   "outputs": [],
   "source": [
    "cur = conn.cursor()"
   ]
  },
  {
   "cell_type": "code",
   "execution_count": 25,
   "id": "7e3c08cb",
   "metadata": {},
   "outputs": [],
   "source": [
    "error_rows_cms = pd.DataFrame()\n",
    "num_rows_successfully_inserted_cms = 0\n",
    "num_rows_error_cms = 0"
   ]
  },
  {
   "cell_type": "markdown",
   "id": "c0134d62",
   "metadata": {},
   "source": [
    "# Creating transaction"
   ]
  },
  {
   "cell_type": "code",
   "execution_count": 26,
   "id": "ded942f8",
   "metadata": {},
   "outputs": [],
   "source": [
    "with conn.transaction():\n",
    "    for column, row in cms.iterrows():\n",
    "        try:\n",
    "            with conn.transaction():\n",
    "                \n",
    "                # If a hospital already exists in the address table then add row to ratings table\n",
    "                cur.execute(\"INSERT into ratings \"\n",
    "                            \"(hospital_name, \"\n",
    "                            \"hospital_pk, \"\n",
    "                            \"collection_week, \"\n",
    "                            \"overall_quality_rating, \"\n",
    "                            \"type, \"\n",
    "                            \"emergency_services_provided) \"\n",
    "                            \"VALUES (%(hospital_name)s, \"\n",
    "                            \"%(hospital_pk)s, \"\n",
    "                            \"%(collection_week)s, \"\n",
    "                            \"%(overall_quality_rating)s, \"\n",
    "                            \"%(type)s, \"\n",
    "                            \"%(emergency_services_provided)s)\",\n",
    "                            {'hospital_name' : str(row['Facility Name']),\n",
    "                             'hospital_pk' : str(row['Facility ID']),\n",
    "                             'collection_week' : str(row.collection_week),\n",
    "                             'overall_quality_rating' : float(row['Hospital overall rating']),\n",
    "                             'type' : str(row['Hospital Ownership']),\n",
    "                             'emergency_services_provided' : row.emergency_services_provided})\n",
    "\n",
    "        except Exception as e:\n",
    "            # row = dict(row)\n",
    "            # error_rows_cms = error_rows_cms.append(row, ignore_index = True)\n",
    "            num_rows_error_cms += 1\n",
    "\n",
    "        else:\n",
    "            num_rows_successfully_inserted_cms += 1"
   ]
  },
  {
   "cell_type": "markdown",
   "id": "ab86a789",
   "metadata": {},
   "source": [
    "# Committing the transaction"
   ]
  },
  {
   "cell_type": "code",
   "execution_count": 27,
   "id": "2da17b3d",
   "metadata": {},
   "outputs": [],
   "source": [
    "conn.commit()"
   ]
  },
  {
   "cell_type": "markdown",
   "id": "5fedecf0",
   "metadata": {},
   "source": [
    "# Creating CSV files for error rows"
   ]
  },
  {
   "cell_type": "code",
   "execution_count": 28,
   "id": "eeac5aa6",
   "metadata": {},
   "outputs": [],
   "source": [
    "error_rows_cms.to_csv(\"Error rows in CMS data set.csv\", index = False)"
   ]
  },
  {
   "cell_type": "markdown",
   "id": "57eb8948",
   "metadata": {},
   "source": [
    "# Printing the summary output"
   ]
  },
  {
   "cell_type": "code",
   "execution_count": 29,
   "id": "025b7a4a",
   "metadata": {},
   "outputs": [
    {
     "name": "stdout",
     "output_type": "stream",
     "text": [
      "Number of rows successfully inserted: 71.21 %\n",
      "Number of rows unable to be inserted due to errors: 28.79 %\n"
     ]
    }
   ],
   "source": [
    "print(\"Number of rows successfully inserted:\", round(num_rows_successfully_inserted_cms / cms.shape[0] * 100, 2), \"%\")\n",
    "print(\"Number of rows unable to be inserted due to errors:\", round(num_rows_error_cms / cms.shape[0] * 100, 2), \"%\")"
   ]
  },
  {
   "cell_type": "markdown",
   "id": "be5811a1",
   "metadata": {},
   "source": [
    "# Closing the SQL connection"
   ]
  },
  {
   "cell_type": "code",
   "execution_count": 30,
   "id": "770a3aa2",
   "metadata": {},
   "outputs": [],
   "source": [
    "conn.close()"
   ]
  }
 ],
 "metadata": {
  "kernelspec": {
   "display_name": "Python 3",
   "language": "python",
   "name": "python3"
  },
  "language_info": {
   "codemirror_mode": {
    "name": "ipython",
    "version": 3
   },
   "file_extension": ".py",
   "mimetype": "text/x-python",
   "name": "python",
   "nbconvert_exporter": "python",
   "pygments_lexer": "ipython3",
   "version": "3.8.8 (default, Apr 13 2021, 12:59:45) \n[Clang 10.0.0 ]"
  },
  "vscode": {
   "interpreter": {
    "hash": "40d3a090f54c6569ab1632332b64b2c03c39dcf918b08424e98f38b5ae0af88f"
   }
  }
 },
 "nbformat": 4,
 "nbformat_minor": 5
}

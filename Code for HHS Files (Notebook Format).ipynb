{
 "cells": [
  {
   "cell_type": "code",
   "execution_count": 2,
   "id": "a48fdf5a",
   "metadata": {},
   "outputs": [],
   "source": [
    "import psycopg\n",
    "import pandas as pd\n",
    "import time\n",
    "import credentials as cd\n",
    "import numpy as np\n",
    "import sys\n",
    "from data_cleaning import data_cleaning_hhs\n",
    "\n",
    "import warnings\n",
    "warnings.filterwarnings('ignore')"
   ]
  },
  {
   "cell_type": "markdown",
   "id": "4184b695",
   "metadata": {},
   "source": [
    "# Data Cleaning"
   ]
  },
  {
   "cell_type": "code",
   "execution_count": 3,
   "id": "20385621",
   "metadata": {},
   "outputs": [],
   "source": [
    "#hhs_file = sys.argv[1]\n",
    "hhs_file = '2022-09-23-hhs-data.csv'\n",
    "file = str('/Users/arshmacbook/Desktop/36-614/Project/hhs_weekly_data_files/' + hhs_file)\n",
    "hhs = data_cleaning_hhs(file)"
   ]
  },
  {
   "cell_type": "markdown",
   "id": "faa068b4",
   "metadata": {},
   "source": [
    "# Establishing SQL connection"
   ]
  },
  {
   "cell_type": "code",
   "execution_count": 4,
   "id": "4bb8349d",
   "metadata": {},
   "outputs": [],
   "source": [
    "conn = psycopg.connect(\n",
    "    host = \"sculptor.stat.cmu.edu\",\n",
    "    dbname = , # Insert your dbname\n",
    "    user = , # Insert your username\n",
    "    password = # Insert your password\n",
    ")"
   ]
  },
  {
   "cell_type": "code",
   "execution_count": 5,
   "id": "03c7b880",
   "metadata": {},
   "outputs": [],
   "source": [
    "cur = conn.cursor()"
   ]
  },
  {
   "cell_type": "code",
   "execution_count": 6,
   "id": "7e3c08cb",
   "metadata": {},
   "outputs": [],
   "source": [
    "error_rows_hhs = pd.DataFrame()\n",
    "num_rows_successfully_inserted_hhs = 0\n",
    "num_rows_error_hhs = 0"
   ]
  },
  {
   "cell_type": "markdown",
   "id": "43310f14",
   "metadata": {},
   "source": [
    "# Deleting all pre-existing rows in all tables"
   ]
  },
  {
   "cell_type": "raw",
   "id": "7fbccc33",
   "metadata": {},
   "source": [
    "with conn.transaction():\n",
    "    cur.execute(\"DELETE FROM ratings\")\n",
    "    cur.execute(\"DELETE FROM capacity_info\")\n",
    "    cur.execute(\"DELETE FROM covid_info\")\n",
    "    cur.execute(\"DELETE FROM address\")"
   ]
  },
  {
   "cell_type": "markdown",
   "id": "8e66cd06",
   "metadata": {},
   "source": [
    "# Dropping all tables"
   ]
  },
  {
   "cell_type": "raw",
   "id": "781e434f",
   "metadata": {},
   "source": [
    "with conn.transaction():\n",
    "    cur.execute(\"DROP TABLE ratings\")\n",
    "    cur.execute(\"DROP TABLE capacity_info\")\n",
    "    cur.execute(\"DROP TABLE covid_info\")\n",
    "    cur.execute(\"DROP TABLE address\")"
   ]
  },
  {
   "cell_type": "markdown",
   "id": "c0134d62",
   "metadata": {},
   "source": [
    "# Creating transaction"
   ]
  },
  {
   "cell_type": "code",
   "execution_count": null,
   "id": "9c3be9e7",
   "metadata": {},
   "outputs": [],
   "source": [
    "with conn.transaction():\n",
    "    for column, row in hhs.iterrows():\n",
    "        try:\n",
    "            with conn.transaction():\n",
    "                \n",
    "                # If a hospital already exists in the table then update values in the address table\n",
    "                cur.execute(\"SELECT hospital_pk FROM address\")\n",
    "                existing_hospitals = pd.Series(cur.fetchall())\n",
    "                if row.hospital_pk in existing_hospitals:\n",
    "\n",
    "                    # Update info in address table\n",
    "                    cur.execute(\"UPDATE address \"\n",
    "                                 \"SET hospital_name = %(hospital_name)s, \"\n",
    "                                 \"address = $(address)s, \"\n",
    "                                 \"city = %(city)s, \"\n",
    "                                 \"state = $(state)s, \"\n",
    "                                 \"zip = %(zip)s, \"\n",
    "                                 \"fips_code) = %(fips_code)s\"\n",
    "                                 \"WHERE hospital_pk = %(hospital_pk)s\",\n",
    "                                 {'hospital_name' : str(row.hospital_name),\n",
    "                                  'hospital_pk' : str(row.hospital_pk),\n",
    "                                  'address' : str(row.address),\n",
    "                                  'city' : str(row.city),\n",
    "                                  'state' : str(row.state),\n",
    "                                  'zip' : str(row.zip),\n",
    "                                  'fips_code' : float(row.fips_code)})\n",
    "\n",
    "                # If the hospital does not exist in the address table then insert it\n",
    "                else:\n",
    "\n",
    "                    # Add row to address table\n",
    "                    cur.execute(\"INSERT into address \"\n",
    "                                 \"(hospital_name, \"\n",
    "                                 \"hospital_pk, \"\n",
    "                                 \"address, \"\n",
    "                                 \"city, \"\n",
    "                                 \"state, \"\n",
    "                                 \"zip, \"\n",
    "                                 \"fips_code) \"\n",
    "                                 \"VALUES (%(hospital_name)s, \"\n",
    "                                 \"%(hospital_pk)s, \"\n",
    "                                 \"%(address)s, \"\n",
    "                                 \"%(city)s, \"\n",
    "                                 \"%(state)s, \"\n",
    "                                 \"%(zip)s, \"\n",
    "                                 \"%(fips_code)s)\",\n",
    "                                 {'hospital_name' : str(row.hospital_name),\n",
    "                                  'hospital_pk' : str(row.hospital_pk),\n",
    "                                  'address' : str(row.address),\n",
    "                                  'city' : str(row.city),\n",
    "                                  'state' : str(row.state),\n",
    "                                  'zip' : str(row.zip),\n",
    "                                  'fips_code' : float(row.fips_code)})\n",
    "\n",
    "                # Add rows to capacity info table\n",
    "                cur.execute(\"INSERT into capacity_info \"\n",
    "                            \"(hospital_pk, \"\n",
    "                            \"collection_week, \"\n",
    "                            \"adult_hospital_beds, \"\n",
    "                            \"pediatric_inpatient_beds, \"\n",
    "                            \"adult_hospital_inpatient_bed_occupied, \"\n",
    "                            \"pediatric_inpatient_bed_occupied, \"\n",
    "                            \"total_icu_beds, \"\n",
    "                            \"icu_beds_used) \"\n",
    "                            \"VALUES (%(hospital_pk)s, \"\n",
    "                            \"%(collection_week)s, \"\n",
    "                            \"%(adult_hospital_beds)s, \"\n",
    "                            \"%(pediatric_inpatient_beds)s, \"\n",
    "                            \"%(adult_hospital_inpatient_bed_occupied)s, \"\n",
    "                            \"%(pediatric_inpatient_bed_occupied)s, \"\n",
    "                            \"%(total_icu_beds)s, \"\n",
    "                            \"%(icu_beds_used)s)\",\n",
    "                            {'hospital_pk' : str(row.hospital_pk),\n",
    "                             'collection_week' : str(row.collection_week),\n",
    "                             'adult_hospital_beds' : float(row.all_adult_hospital_beds_7_day_avg),\n",
    "                             'pediatric_inpatient_beds' : float(row.all_pediatric_inpatient_beds_7_day_avg),\n",
    "                             'adult_hospital_inpatient_bed_occupied' : float(row.all_adult_hospital_inpatient_bed_occupied_7_day_coverage),\n",
    "                             'pediatric_inpatient_bed_occupied' : float(row.all_pediatric_inpatient_bed_occupied_7_day_avg),\n",
    "                             'total_icu_beds' : float(row.total_icu_beds_7_day_avg),\n",
    "                             'icu_beds_used' : float(row.icu_beds_used_7_day_avg)})\n",
    "\n",
    "                # Add rows to covid info table\n",
    "                cur.execute(\"INSERT into covid_info \"\n",
    "                            \"(hospital_pk, \"\n",
    "                            \"hospital_name, \"\n",
    "                            \"collection_week, \"\n",
    "                            \"inpatient_beds_used_covid_7_day_avg, \"\n",
    "                            \"staffed_adult_icu_patients_confirmed_covid_7_day_avg, \"\n",
    "                            \"total_icu_beds_7_day_avg, \"\n",
    "                            \"icu_beds_used_7_day_avg) \"\n",
    "                            \"VALUES (%(hospital_pk)s, \"\n",
    "                            \"%(hospital_name)s, \"\n",
    "                            \"%(collection_week)s, \"\n",
    "                            \"%(inpatient_beds_used_covid_7_day_avg)s, \"\n",
    "                            \"%(staffed_adult_icu_patients_confirmed_covid_7_day_avg)s, \"\n",
    "                            \"%(total_icu_beds_7_day_avg)s, \"\n",
    "                            \"%(icu_beds_used_7_day_avg)s)\",\n",
    "                            {'hospital_pk' : str(row.hospital_pk),\n",
    "                             'hospital_name' : str(row.hospital_name),\n",
    "                             'collection_week' : str(row.collection_week),\n",
    "                             'inpatient_beds_used_covid_7_day_avg' : float(row.inpatient_beds_used_covid_7_day_avg),\n",
    "                             'staffed_adult_icu_patients_confirmed_covid_7_day_avg' : float(row.staffed_icu_adult_patients_confirmed_covid_7_day_avg),\n",
    "                             'total_icu_beds_7_day_avg' : float(row.total_icu_beds_7_day_avg),\n",
    "                             'icu_beds_used_7_day_avg' : float(row.icu_beds_used_7_day_avg)})\n",
    "\n",
    "        except Exception as e:\n",
    "            row = dict(row)\n",
    "            error_rows_hhs = error_rows_hhs.append(row, ignore_index = True)\n",
    "            num_rows_error_hhs += 1\n",
    "\n",
    "        else:\n",
    "            num_rows_successfully_inserted_hhs += 1"
   ]
  },
  {
   "cell_type": "markdown",
   "id": "ab86a789",
   "metadata": {},
   "source": [
    "# Committing the transaction"
   ]
  },
  {
   "cell_type": "code",
   "execution_count": null,
   "id": "2da17b3d",
   "metadata": {},
   "outputs": [],
   "source": [
    "conn.commit()"
   ]
  },
  {
   "cell_type": "markdown",
   "id": "5fedecf0",
   "metadata": {},
   "source": [
    "# Creating CSV files for error rows"
   ]
  },
  {
   "cell_type": "code",
   "execution_count": null,
   "id": "eeac5aa6",
   "metadata": {},
   "outputs": [],
   "source": [
    "error_rows_hhs.to_csv(\"Error rows in HHS data set.csv\", index = False)"
   ]
  },
  {
   "cell_type": "markdown",
   "id": "57eb8948",
   "metadata": {},
   "source": [
    "# Printing the summary output"
   ]
  },
  {
   "cell_type": "code",
   "execution_count": null,
   "id": "025b7a4a",
   "metadata": {},
   "outputs": [],
   "source": [
    "print(\"Number of rows successfully inserted:\", round(num_rows_successfully_inserted_hhs / hhs.shape[0] * 100, 2), \"%\")\n",
    "print(\"Number of rows unable to be inserted due to errors:\", round(num_rows_error_hhs / hhs.shape[0] * 100, 2), \"%\")"
   ]
  },
  {
   "cell_type": "markdown",
   "id": "be5811a1",
   "metadata": {},
   "source": [
    "# Closing the SQL connection"
   ]
  },
  {
   "cell_type": "code",
   "execution_count": null,
   "id": "770a3aa2",
   "metadata": {},
   "outputs": [
    {
     "ename": "NameError",
     "evalue": "name 'conn' is not defined",
     "output_type": "error",
     "traceback": [
      "\u001b[0;31m---------------------------------------------------------------------------\u001b[0m",
      "\u001b[0;31mNameError\u001b[0m                                 Traceback (most recent call last)",
      "\u001b[0;32m<ipython-input-1-8dd0cd799055>\u001b[0m in \u001b[0;36m<module>\u001b[0;34m\u001b[0m\n\u001b[0;32m----> 1\u001b[0;31m \u001b[0mconn\u001b[0m\u001b[0;34m.\u001b[0m\u001b[0mclose\u001b[0m\u001b[0;34m(\u001b[0m\u001b[0;34m)\u001b[0m\u001b[0;34m\u001b[0m\u001b[0;34m\u001b[0m\u001b[0m\n\u001b[0m",
      "\u001b[0;31mNameError\u001b[0m: name 'conn' is not defined"
     ]
    }
   ],
   "source": [
    "conn.close()"
   ]
  }
 ],
 "metadata": {
  "kernelspec": {
   "display_name": "Python 3",
   "language": "python",
   "name": "python3"
  },
  "language_info": {
   "codemirror_mode": {
    "name": "ipython",
    "version": 3
   },
   "file_extension": ".py",
   "mimetype": "text/x-python",
   "name": "python",
   "nbconvert_exporter": "python",
   "pygments_lexer": "ipython3",
   "version": "3.8.8"
  },
  "vscode": {
   "interpreter": {
    "hash": "40d3a090f54c6569ab1632332b64b2c03c39dcf918b08424e98f38b5ae0af88f"
   }
  }
 },
 "nbformat": 4,
 "nbformat_minor": 5
}

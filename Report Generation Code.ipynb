{
 "cells": [
  {
   "cell_type": "code",
   "execution_count": 707,
   "id": "1316eaf9",
   "metadata": {},
   "outputs": [],
   "source": [
    "import psycopg\n",
    "import pandas as pd\n",
    "import time\n",
    "import credentials as cd\n",
    "import numpy as np\n",
    "import plotly.express as px\n",
    "import matplotlib.pyplot as plt\n",
    "\n",
    "import warnings\n",
    "warnings.filterwarnings('ignore')"
   ]
  },
  {
   "attachments": {},
   "cell_type": "markdown",
   "id": "48e4b6a1",
   "metadata": {},
   "source": [
    "# Establishing SQL connection"
   ]
  },
  {
   "cell_type": "code",
   "execution_count": 708,
   "id": "ce8e88cc",
   "metadata": {},
   "outputs": [],
   "source": [
    "conn = psycopg.connect(\n",
    "    host = \"sculptor.stat.cmu.edu\",\n",
    "    dbname = cd.arsh_dbname,  # Insert your dbname\n",
    "    user = cd.arsh_username,  # Insert your username\n",
    "    password = cd.arsh_password  # Insert your password\n",
    ")"
   ]
  },
  {
   "cell_type": "code",
   "execution_count": 709,
   "id": "04dceca7",
   "metadata": {},
   "outputs": [],
   "source": [
    "cur = conn.cursor()"
   ]
  },
  {
   "cell_type": "markdown",
   "id": "cd6a3c76",
   "metadata": {},
   "source": [
    "# Creating a table"
   ]
  },
  {
   "attachments": {},
   "cell_type": "markdown",
   "id": "44f24038",
   "metadata": {},
   "source": [
    "### Required Questions\n",
    "\n",
    "1. A summary of how many hospital records were loaded in the most recent week, and how that compares to previous weeks. (Zoe)\n",
    "\n",
    "1. A table summarizing the number of adult and pediatric beds available this week, the number used, and the number used by patients with COVID, compared to the 4 most recent weeks. (Zoe)\n",
    "\n",
    "1. A graph or table summarizing the fraction of beds currently in use by hospital quality rating, so we can compare high-quality and low-quality hospitals. (Handi)\n",
    "\n",
    "1. A plot of the total number of hospital beds used per week, over all time, split into all cases and COVID cases. (Arsh)\n",
    "\n",
    "### Additional Questions\n",
    "\n",
    "1. A map showing number of COVID cases for each state. (Arsh)\n",
    "\n",
    "1. A map showing average rating of hospitals for each state. (Handi)"
   ]
  },
  {
   "attachments": {},
   "cell_type": "markdown",
   "id": "3d69659e",
   "metadata": {},
   "source": [
    "## Required Question 4"
   ]
  },
  {
   "attachments": {},
   "cell_type": "markdown",
   "id": "d09fdbb2",
   "metadata": {},
   "source": [
    "A plot of the total number of hospital beds used per week, over all time, split into all cases and COVID cases."
   ]
  },
  {
   "cell_type": "raw",
   "id": "4a83b493",
   "metadata": {},
   "source": [
    "adult_hospital_inpatient_bed_occupied: Adult hospital beds in use in a week --> capacity_info\n",
    "pediatric_inpatient_bed_occupied: Kids hospital beds in use in a week --> capacity_info\n",
    "inpatient_beds_used_covid_7_day_avg: Number of patients having COVID --> covid_info\n",
    "\n",
    "All cases = adult_hospital_inpatient_bed_occupied + pediatric_inpatient_bed_occupied\n",
    "COVID cases = inpatient_beds_used_covid_7_day_avg\n",
    "\n",
    "Step 1: Perform inner join on capacity_info and covid_info tables using column hospital_pk\n",
    "Step 2: Create new column all_beds_used = adult_hospital_inpatient_bed_occupied + pediatric_inpatient_bed_occupied\n",
    "Step 3: Rename inpatient_beds_used_covid_7_day_avg to covid_beds_used\n",
    "Step 4: Group all_beds_used and covid_beds_used by week"
   ]
  },
  {
   "cell_type": "code",
   "execution_count": 710,
   "id": "7d880109",
   "metadata": {},
   "outputs": [],
   "source": [
    "covid_and_all_beds_used_per_week = pd.read_sql_query(\"select all_beds.collection_week as collection_week, \\\n",
    "    all_beds.all_beds_used as all_beds_used, \\\n",
    "    covid_beds.covid_beds_used as covid_beds_used \\\n",
    "    from ( \\\n",
    "        select temp.collection_week, \\\n",
    "        sum(temp.all_beds_used) as all_beds_used \\\n",
    "        from ( \\\n",
    "            select collection_week, ( \\\n",
    "            coalesce(nullif(adult_hospital_inpatient_bed_occupied, 'NaN'), 0) + \\\n",
    "            coalesce(nullif(pediatric_inpatient_bed_occupied,'NaN'), 0) \\\n",
    "            ) as all_beds_used \\\n",
    "            from capacity_info \\\n",
    "            ) as temp \\\n",
    "        group by temp.collection_week \\\n",
    "        ) as all_beds \\\n",
    "    inner join ( \\\n",
    "        select temp.collection_week, \\\n",
    "        sum(temp.covid_beds_used) as covid_beds_used \\\n",
    "        from ( \\\n",
    "            select collection_week, \\\n",
    "            coalesce(nullif(inpatient_beds_used_covid_7_day_avg, 'NaN'), 0) as covid_beds_used \\\n",
    "            from covid_info \\\n",
    "            ) as temp \\\n",
    "        group by temp.collection_week \\\n",
    "        ) as covid_beds \\\n",
    "    on all_beds.collection_week = covid_beds.collection_week\", conn)"
   ]
  },
  {
   "cell_type": "code",
   "execution_count": 711,
   "id": "e5009831",
   "metadata": {},
   "outputs": [],
   "source": [
    "weeks = covid_and_all_beds_used_per_week.collection_week\n",
    "all_beds_used = covid_and_all_beds_used_per_week.all_beds_used\n",
    "covid_beds_used = covid_and_all_beds_used_per_week.covid_beds_used"
   ]
  },
  {
   "cell_type": "code",
   "execution_count": 712,
   "id": "6d167ca7",
   "metadata": {},
   "outputs": [
    {
     "data": {
      "image/png": "[encoded data removed]",
      "text/plain": [
       "<Figure size 432x288 with 1 Axes>"
      ]
     },
     "metadata": {
      "needs_background": "light"
     },
     "output_type": "display_data"
    }
   ],
   "source": [
    "n = covid_and_all_beds_used_per_week.collection_week.shape[0]\n",
    "ind = np.arange(n)\n",
    "width = 0.3\n",
    "\n",
    "plt.bar(\n",
    "    ind,\n",
    "    covid_and_all_beds_used_per_week.all_beds_used,\n",
    "    width,\n",
    "    label = \"All cases\"\n",
    "    )\n",
    "\n",
    "plt.bar(\n",
    "    ind + width,\n",
    "    covid_and_all_beds_used_per_week.covid_beds_used,\n",
    "    width,\n",
    "    label = \"COVID cases\"\n",
    "    )\n",
    "\n",
    "plt.xlabel(\"Collection Week\")\n",
    "plt.ylabel(\"Number of beds used\")\n",
    "plt.xticks(\n",
    "    ind + width / 2,\n",
    "    covid_and_all_beds_used_per_week.collection_week,\n",
    "    rotation = 45\n",
    "    )\n",
    "plt.legend()\n",
    "plt.title(\"Number of beds used over time for all cases and COVID cases\")\n",
    "plt.show()"
   ]
  },
  {
   "attachments": {},
   "cell_type": "markdown",
   "id": "3d69659e",
   "metadata": {},
   "source": [
    "## Additional Question 2"
   ]
  },
  {
   "attachments": {},
   "cell_type": "markdown",
   "id": "81adeb13",
   "metadata": {},
   "source": [
    "Create two tables showing the states with highest and lowest COVID cases."
   ]
  },
  {
   "cell_type": "raw",
   "id": "4a83b493",
   "metadata": {},
   "source": [
    "state: State --> address\n",
    "inpatient_beds_used_covid_7_day_avg: Number of COVID cases --> covid_info\n",
    "\n",
    "Step 1: Perform inner join on covid_info and address tables using column hospital_pk\n",
    "Step 2: Rename inpatient_beds_used_covid_7_day_avg to covid_cases\n",
    "Step 3: Sum up covid_cases and aggregate by state"
   ]
  },
  {
   "cell_type": "code",
   "execution_count": 713,
   "id": "b156cfdf",
   "metadata": {},
   "outputs": [],
   "source": [
    "covid_cases_per_state = pd.read_sql_query(\"select address.state as state, \\\n",
    "    sum(covid_info.covid_cases) as covid_cases \\\n",
    "    from ( \\\n",
    "        select hospital_pk, \\\n",
    "        coalesce(nullif(inpatient_beds_used_covid_7_day_avg, 'NaN'), 0) as covid_cases \\\n",
    "        from covid_info \\\n",
    "        ) as covid_info \\\n",
    "    left join ( \\\n",
    "        select hospital_pk, \\\n",
    "        state \\\n",
    "        from address \\\n",
    "        ) as address \\\n",
    "    on address.hospital_pk = covid_info.hospital_pk \\\n",
    "    group by state\", conn)"
   ]
  },
  {
   "cell_type": "code",
   "execution_count": 714,
   "id": "678c544a",
   "metadata": {
    "vscode": {
     "languageId": "javascript"
    }
   },
   "outputs": [
    {
     "data": {
      "application/vnd.plotly.v1+json": {
       "config": {
        "plotlyServerURL": "https://plot.ly"
       },
       "data": [
        {
         "coloraxis": "coloraxis",
         "geo": "geo",
         "hovertemplate": "state=%{location}<br>color=%{z}<extra></extra>",
         "locationmode": "USA-states",
         "locations": [
          "CA",
          "NH",
          "OR",
          "TX",
          "ND",
          "PR",
          "NV",
          "OH",
          "KY",
          "GU",
          "NY",
          "HI",
          "NM",
          "MS",
          "IN",
          "DC",
          "WV",
          "NE",
          "MO",
          "FL",
          "ME",
          "AR",
          "WI",
          "NC",
          "CT",
          "SD",
          "RI",
          "OK",
          "ID",
          "GA",
          "MN",
          "PA",
          "MD",
          "AK",
          "WY",
          "LA",
          "MT",
          "IL",
          "TN",
          "WA",
          "NJ",
          "MI",
          "MA",
          "AL",
          "UT",
          "IA",
          "VT",
          "CO",
          "SC",
          "VI",
          "VA",
          "AS",
          "DE",
          "AZ",
          "KS"
         ],
         "name": "",
         "type": "choropleth",
         "z": [
          7.62095015484586,
          4.951592753462473,
          5.225208894727398,
          8.033853024585108,
          2.2925347571405443,
          5.473949935191195,
          3.9926809084456005,
          7.696621646600627,
          6.088364371847941,
          null,
          8.868863633700109,
          4.722953221644475,
          4.223909766576744,
          4.76473475565943,
          5.605802066295998,
          5.739792912179234,
          5.7535245665510155,
          5.548297571815806,
          7.026870759872299,
          7.702285073830685,
          5.926926025970411,
          5.127529045567755,
          6.490571777919774,
          7.560236702816067,
          6.828712071641684,
          1.7749523509116738,
          4.35799005684564,
          5.562986664690745,
          4.02535169073515,
          7.428749031663754,
          6.415914955127227,
          7.846120565174603,
          6.542327857905503,
          3.490428515390098,
          3.5524868292083815,
          5.17105201550216,
          3.2733640101522705,
          6.935078574631027,
          6.400257445308821,
          6.256517501499402,
          7.17579571117863,
          7.399031043503412,
          6.944762004611233,
          5.559141984829935,
          4.56746831880408,
          4.414009680526933,
          3.949318790171843,
          5.113191882421348,
          4.469350462845557,
          null,
          6.6925798973171045,
          null,
          5.910254491682439,
          5.788429948716486,
          5.466370951544286
         ]
        }
       ],
       "layout": {
        "coloraxis": {
         "colorbar": {
          "title": {
           "text": "color"
          }
         },
         "colorscale": [
          [
           0,
           "#fde725"
          ],
          [
           0.1111111111111111,
           "#b5de2b"
          ],
          [
           0.2222222222222222,
           "#6ece58"
          ],
          [
           0.3333333333333333,
           "#35b779"
          ],
          [
           0.4444444444444444,
           "#1f9e89"
          ],
          [
           0.5555555555555556,
           "#26828e"
          ],
          [
           0.6666666666666666,
           "#31688e"
          ],
          [
           0.7777777777777778,
           "#3e4989"
          ],
          [
           0.8888888888888888,
           "#482878"
          ],
          [
           1,
           "#440154"
          ]
         ]
        },
        "geo": {
         "center": {},
         "domain": {
          "x": [
           0,
           1
          ],
          "y": [
           0,
           1
          ]
         },
         "scope": "usa"
        },
        "legend": {
         "tracegroupgap": 0
        },
        "margin": {
         "t": 60
        },
        "template": {
         "data": {
          "bar": [
           {
            "error_x": {
             "color": "#2a3f5f"
            },
            "error_y": {
             "color": "#2a3f5f"
            },
            "marker": {
             "line": {
              "color": "#E5ECF6",
              "width": 0.5
             },
             "pattern": {
              "fillmode": "overlay",
              "size": 10,
              "solidity": 0.2
             }
            },
            "type": "bar"
           }
          ],
          "barpolar": [
           {
            "marker": {
             "line": {
              "color": "#E5ECF6",
              "width": 0.5
             },
             "pattern": {
              "fillmode": "overlay",
              "size": 10,
              "solidity": 0.2
             }
            },
            "type": "barpolar"
           }
          ],
          "carpet": [
           {
            "aaxis": {
             "endlinecolor": "#2a3f5f",
             "gridcolor": "white",
             "linecolor": "white",
             "minorgridcolor": "white",
             "startlinecolor": "#2a3f5f"
            },
            "baxis": {
             "endlinecolor": "#2a3f5f",
             "gridcolor": "white",
             "linecolor": "white",
             "minorgridcolor": "white",
             "startlinecolor": "#2a3f5f"
            },
            "type": "carpet"
           }
          ],
          "choropleth": [
           {
            "colorbar": {
             "outlinewidth": 0,
             "ticks": ""
            },
            "type": "choropleth"
           }
          ],
          "contour": [
           {
            "colorbar": {
             "outlinewidth": 0,
             "ticks": ""
            },
            "colorscale": [
             [
              0,
              "#0d0887"
             ],
             [
              0.1111111111111111,
              "#46039f"
             ],
             [
              0.2222222222222222,
              "#7201a8"
             ],
             [
              0.3333333333333333,
              "#9c179e"
             ],
             [
              0.4444444444444444,
              "#bd3786"
             ],
             [
              0.5555555555555556,
              "#d8576b"
             ],
             [
              0.6666666666666666,
              "#ed7953"
             ],
             [
              0.7777777777777778,
              "#fb9f3a"
             ],
             [
              0.8888888888888888,
              "#fdca26"
             ],
             [
              1,
              "#f0f921"
             ]
            ],
            "type": "contour"
           }
          ],
          "contourcarpet": [
           {
            "colorbar": {
             "outlinewidth": 0,
             "ticks": ""
            },
            "type": "contourcarpet"
           }
          ],
          "heatmap": [
           {
            "colorbar": {
             "outlinewidth": 0,
             "ticks": ""
            },
            "colorscale": [
             [
              0,
              "#0d0887"
             ],
             [
              0.1111111111111111,
              "#46039f"
             ],
             [
              0.2222222222222222,
              "#7201a8"
             ],
             [
              0.3333333333333333,
              "#9c179e"
             ],
             [
              0.4444444444444444,
              "#bd3786"
             ],
             [
              0.5555555555555556,
              "#d8576b"
             ],
             [
              0.6666666666666666,
              "#ed7953"
             ],
             [
              0.7777777777777778,
              "#fb9f3a"
             ],
             [
              0.8888888888888888,
              "#fdca26"
             ],
             [
              1,
              "#f0f921"
             ]
            ],
            "type": "heatmap"
           }
          ],
          "heatmapgl": [
           {
            "colorbar": {
             "outlinewidth": 0,
             "ticks": ""
            },
            "colorscale": [
             [
              0,
              "#0d0887"
             ],
             [
              0.1111111111111111,
              "#46039f"
             ],
             [
              0.2222222222222222,
              "#7201a8"
             ],
             [
              0.3333333333333333,
              "#9c179e"
             ],
             [
              0.4444444444444444,
              "#bd3786"
             ],
             [
              0.5555555555555556,
              "#d8576b"
             ],
             [
              0.6666666666666666,
              "#ed7953"
             ],
             [
              0.7777777777777778,
              "#fb9f3a"
             ],
             [
              0.8888888888888888,
              "#fdca26"
             ],
             [
              1,
              "#f0f921"
             ]
            ],
            "type": "heatmapgl"
           }
          ],
          "histogram": [
           {
            "marker": {
             "pattern": {
              "fillmode": "overlay",
              "size": 10,
              "solidity": 0.2
             }
            },
            "type": "histogram"
           }
          ],
          "histogram2d": [
           {
            "colorbar": {
             "outlinewidth": 0,
             "ticks": ""
            },
            "colorscale": [
             [
              0,
              "#0d0887"
             ],
             [
              0.1111111111111111,
              "#46039f"
             ],
             [
              0.2222222222222222,
              "#7201a8"
             ],
             [
              0.3333333333333333,
              "#9c179e"
             ],
             [
              0.4444444444444444,
              "#bd3786"
             ],
             [
              0.5555555555555556,
              "#d8576b"
             ],
             [
              0.6666666666666666,
              "#ed7953"
             ],
             [
              0.7777777777777778,
              "#fb9f3a"
             ],
             [
              0.8888888888888888,
              "#fdca26"
             ],
             [
              1,
              "#f0f921"
             ]
            ],
            "type": "histogram2d"
           }
          ],
          "histogram2dcontour": [
           {
            "colorbar": {
             "outlinewidth": 0,
             "ticks": ""
            },
            "colorscale": [
             [
              0,
              "#0d0887"
             ],
             [
              0.1111111111111111,
              "#46039f"
             ],
             [
              0.2222222222222222,
              "#7201a8"
             ],
             [
              0.3333333333333333,
              "#9c179e"
             ],
             [
              0.4444444444444444,
              "#bd3786"
             ],
             [
              0.5555555555555556,
              "#d8576b"
             ],
             [
              0.6666666666666666,
              "#ed7953"
             ],
             [
              0.7777777777777778,
              "#fb9f3a"
             ],
             [
              0.8888888888888888,
              "#fdca26"
             ],
             [
              1,
              "#f0f921"
             ]
            ],
            "type": "histogram2dcontour"
           }
          ],
          "mesh3d": [
           {
            "colorbar": {
             "outlinewidth": 0,
             "ticks": ""
            },
            "type": "mesh3d"
           }
          ],
          "parcoords": [
           {
            "line": {
             "colorbar": {
              "outlinewidth": 0,
              "ticks": ""
             }
            },
            "type": "parcoords"
           }
          ],
          "pie": [
           {
            "automargin": true,
            "type": "pie"
           }
          ],
          "scatter": [
           {
            "fillpattern": {
             "fillmode": "overlay",
             "size": 10,
             "solidity": 0.2
            },
            "type": "scatter"
           }
          ],
          "scatter3d": [
           {
            "line": {
             "colorbar": {
              "outlinewidth": 0,
              "ticks": ""
             }
            },
            "marker": {
             "colorbar": {
              "outlinewidth": 0,
              "ticks": ""
             }
            },
            "type": "scatter3d"
           }
          ],
          "scattercarpet": [
           {
            "marker": {
             "colorbar": {
              "outlinewidth": 0,
              "ticks": ""
             }
            },
            "type": "scattercarpet"
           }
          ],
          "scattergeo": [
           {
            "marker": {
             "colorbar": {
              "outlinewidth": 0,
              "ticks": ""
             }
            },
            "type": "scattergeo"
           }
          ],
          "scattergl": [
           {
            "marker": {
             "colorbar": {
              "outlinewidth": 0,
              "ticks": ""
             }
            },
            "type": "scattergl"
           }
          ],
          "scattermapbox": [
           {
            "marker": {
             "colorbar": {
              "outlinewidth": 0,
              "ticks": ""
             }
            },
            "type": "scattermapbox"
           }
          ],
          "scatterpolar": [
           {
            "marker": {
             "colorbar": {
              "outlinewidth": 0,
              "ticks": ""
             }
            },
            "type": "scatterpolar"
           }
          ],
          "scatterpolargl": [
           {
            "marker": {
             "colorbar": {
              "outlinewidth": 0,
              "ticks": ""
             }
            },
            "type": "scatterpolargl"
           }
          ],
          "scatterternary": [
           {
            "marker": {
             "colorbar": {
              "outlinewidth": 0,
              "ticks": ""
             }
            },
            "type": "scatterternary"
           }
          ],
          "surface": [
           {
            "colorbar": {
             "outlinewidth": 0,
             "ticks": ""
            },
            "colorscale": [
             [
              0,
              "#0d0887"
             ],
             [
              0.1111111111111111,
              "#46039f"
             ],
             [
              0.2222222222222222,
              "#7201a8"
             ],
             [
              0.3333333333333333,
              "#9c179e"
             ],
             [
              0.4444444444444444,
              "#bd3786"
             ],
             [
              0.5555555555555556,
              "#d8576b"
             ],
             [
              0.6666666666666666,
              "#ed7953"
             ],
             [
              0.7777777777777778,
              "#fb9f3a"
             ],
             [
              0.8888888888888888,
              "#fdca26"
             ],
             [
              1,
              "#f0f921"
             ]
            ],
            "type": "surface"
           }
          ],
          "table": [
           {
            "cells": {
             "fill": {
              "color": "#EBF0F8"
             },
             "line": {
              "color": "white"
             }
            },
            "header": {
             "fill": {
              "color": "#C8D4E3"
             },
             "line": {
              "color": "white"
             }
            },
            "type": "table"
           }
          ]
         },
         "layout": {
          "annotationdefaults": {
           "arrowcolor": "#2a3f5f",
           "arrowhead": 0,
           "arrowwidth": 1
          },
          "autotypenumbers": "strict",
          "coloraxis": {
           "colorbar": {
            "outlinewidth": 0,
            "ticks": ""
           }
          },
          "colorscale": {
           "diverging": [
            [
             0,
             "#8e0152"
            ],
            [
             0.1,
             "#c51b7d"
            ],
            [
             0.2,
             "#de77ae"
            ],
            [
             0.3,
             "#f1b6da"
            ],
            [
             0.4,
             "#fde0ef"
            ],
            [
             0.5,
             "#f7f7f7"
            ],
            [
             0.6,
             "#e6f5d0"
            ],
            [
             0.7,
             "#b8e186"
            ],
            [
             0.8,
             "#7fbc41"
            ],
            [
             0.9,
             "#4d9221"
            ],
            [
             1,
             "#276419"
            ]
           ],
           "sequential": [
            [
             0,
             "#0d0887"
            ],
            [
             0.1111111111111111,
             "#46039f"
            ],
            [
             0.2222222222222222,
             "#7201a8"
            ],
            [
             0.3333333333333333,
             "#9c179e"
            ],
            [
             0.4444444444444444,
             "#bd3786"
            ],
            [
             0.5555555555555556,
             "#d8576b"
            ],
            [
             0.6666666666666666,
             "#ed7953"
            ],
            [
             0.7777777777777778,
             "#fb9f3a"
            ],
            [
             0.8888888888888888,
             "#fdca26"
            ],
            [
             1,
             "#f0f921"
            ]
           ],
           "sequentialminus": [
            [
             0,
             "#0d0887"
            ],
            [
             0.1111111111111111,
             "#46039f"
            ],
            [
             0.2222222222222222,
             "#7201a8"
            ],
            [
             0.3333333333333333,
             "#9c179e"
            ],
            [
             0.4444444444444444,
             "#bd3786"
            ],
            [
             0.5555555555555556,
             "#d8576b"
            ],
            [
             0.6666666666666666,
             "#ed7953"
            ],
            [
             0.7777777777777778,
             "#fb9f3a"
            ],
            [
             0.8888888888888888,
             "#fdca26"
            ],
            [
             1,
             "#f0f921"
            ]
           ]
          },
          "colorway": [
           "#636efa",
           "#EF553B",
           "#00cc96",
           "#ab63fa",
           "#FFA15A",
           "#19d3f3",
           "#FF6692",
           "#B6E880",
           "#FF97FF",
           "#FECB52"
          ],
          "font": {
           "color": "#2a3f5f"
          },
          "geo": {
           "bgcolor": "white",
           "lakecolor": "white",
           "landcolor": "#E5ECF6",
           "showlakes": true,
           "showland": true,
           "subunitcolor": "white"
          },
          "hoverlabel": {
           "align": "left"
          },
          "hovermode": "closest",
          "mapbox": {
           "style": "light"
          },
          "paper_bgcolor": "white",
          "plot_bgcolor": "#E5ECF6",
          "polar": {
           "angularaxis": {
            "gridcolor": "white",
            "linecolor": "white",
            "ticks": ""
           },
           "bgcolor": "#E5ECF6",
           "radialaxis": {
            "gridcolor": "white",
            "linecolor": "white",
            "ticks": ""
           }
          },
          "scene": {
           "xaxis": {
            "backgroundcolor": "#E5ECF6",
            "gridcolor": "white",
            "gridwidth": 2,
            "linecolor": "white",
            "showbackground": true,
            "ticks": "",
            "zerolinecolor": "white"
           },
           "yaxis": {
            "backgroundcolor": "#E5ECF6",
            "gridcolor": "white",
            "gridwidth": 2,
            "linecolor": "white",
            "showbackground": true,
            "ticks": "",
            "zerolinecolor": "white"
           },
           "zaxis": {
            "backgroundcolor": "#E5ECF6",
            "gridcolor": "white",
            "gridwidth": 2,
            "linecolor": "white",
            "showbackground": true,
            "ticks": "",
            "zerolinecolor": "white"
           }
          },
          "shapedefaults": {
           "line": {
            "color": "#2a3f5f"
           }
          },
          "ternary": {
           "aaxis": {
            "gridcolor": "white",
            "linecolor": "white",
            "ticks": ""
           },
           "baxis": {
            "gridcolor": "white",
            "linecolor": "white",
            "ticks": ""
           },
           "bgcolor": "#E5ECF6",
           "caxis": {
            "gridcolor": "white",
            "linecolor": "white",
            "ticks": ""
           }
          },
          "title": {
           "x": 0.05
          },
          "xaxis": {
           "automargin": true,
           "gridcolor": "white",
           "linecolor": "white",
           "ticks": "",
           "title": {
            "standoff": 15
           },
           "zerolinecolor": "white",
           "zerolinewidth": 2
          },
          "yaxis": {
           "automargin": true,
           "gridcolor": "white",
           "linecolor": "white",
           "ticks": "",
           "title": {
            "standoff": 15
           },
           "zerolinecolor": "white",
           "zerolinewidth": 2
          }
         }
        },
        "title": {
         "text": "COVID Cases by State (on log scale)",
         "x": 0.5
        }
       }
      }
     },
     "metadata": {},
     "output_type": "display_data"
    }
   ],
   "source": [
    "covid_cases_map = px.choropleth(\n",
    "      covid_cases_per_state,\n",
    "      locations = covid_cases_per_state.state,\n",
    "      locationmode = \"USA-states\",\n",
    "      scope = \"usa\",\n",
    "      color = np.log(covid_cases_per_state.covid_cases),\n",
    "      color_continuous_scale = \"Viridis_r\")\n",
    "\n",
    "covid_cases_map.update_layout(\n",
    "      title_text = 'COVID Cases by State (on log scale)',\n",
    "      title_x = 0.5\n",
    "      )\n",
    "\n",
    "covid_cases_map.show()"
   ]
  },
  {
   "attachments": {},
   "cell_type": "markdown",
   "id": "aa231833",
   "metadata": {},
   "source": [
    "# Closing the SQL connection"
   ]
  },
  {
   "cell_type": "code",
   "execution_count": 715,
   "id": "06838372",
   "metadata": {},
   "outputs": [],
   "source": [
    "conn.close()"
   ]
  }
 ],
 "metadata": {
  "kernelspec": {
   "display_name": "Python 3",
   "language": "python",
   "name": "python3"
  },
  "language_info": {
   "codemirror_mode": {
    "name": "ipython",
    "version": 3
   },
   "file_extension": ".py",
   "mimetype": "text/x-python",
   "name": "python",
   "nbconvert_exporter": "python",
   "pygments_lexer": "ipython3",
   "version": "3.8.8 (default, Apr 13 2021, 12:59:45) \n[Clang 10.0.0 ]"
  },
  "vscode": {
   "interpreter": {
    "hash": "40d3a090f54c6569ab1632332b64b2c03c39dcf918b08424e98f38b5ae0af88f"
   }
  }
 },
 "nbformat": 4,
 "nbformat_minor": 5
}
